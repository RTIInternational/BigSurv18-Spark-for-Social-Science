{
 "cells": [
  {
   "cell_type": "markdown",
   "metadata": {},
   "source": [
    "# Basics"
   ]
  },
  {
   "cell_type": "markdown",
   "metadata": {},
   "source": [
    "   ## Spark Session"
   ]
  },
  {
   "cell_type": "markdown",
   "metadata": {},
   "source": [
    "Start the session to create a single entry point for intertacting with teh underlying Spark engine. This session defines how you will interact with Spark, allowing you to define the name and custom configuration settings."
   ]
  },
  {
   "cell_type": "code",
   "execution_count": 1,
   "metadata": {},
   "outputs": [],
   "source": [
    "from pyspark.sql import SparkSession\n",
    "\n",
    "\n",
    "spark = SparkSession \\\n",
    "    .builder \\\n",
    "    .appName(\"Python Spark SQL basic example\") \\\n",
    "    .config(\"spark.some.config.option\", \"some-value\") \\\n",
    "    .getOrCreate()"
   ]
  },
  {
   "cell_type": "markdown",
   "metadata": {},
   "source": [
    "## Read & Show"
   ]
  },
  {
   "cell_type": "markdown",
   "metadata": {},
   "source": [
    "Load a JSON file into a dataframe and look to see if it's what you're expecting"
   ]
  },
  {
   "cell_type": "code",
   "execution_count": 25,
   "metadata": {},
   "outputs": [],
   "source": [
    "comments_df = spark.read.json(\"./data/RC_2008-01.json\")"
   ]
  },
  {
   "cell_type": "code",
   "execution_count": 26,
   "metadata": {},
   "outputs": [
    {
     "name": "stdout",
     "output_type": "stream",
     "text": [
      "+--------+---------+----------------------+-----------------+--------------------+----------------+-----------+-------------+-----+------+------+-------+--------+----------+----------+------------+-----+------------+----------+------------+---+\n",
      "|archived|   author|author_flair_css_class|author_flair_text|                body|controversiality|created_utc|distinguished|downs|edited|gilded|     id| link_id|      name| parent_id|retrieved_on|score|score_hidden| subreddit|subreddit_id|ups|\n",
      "+--------+---------+----------------------+-----------------+--------------------+----------------+-----------+-------------+-----+------+------+-------+--------+----------+----------+------------+-----+------------+----------+------------+---+\n",
      "|    true|    Haven|                  null|             null|Wow, you're a buz...|               0| 1199145604|         null|    0| false|     0|c02s9s6|t3_648oh|t1_c02s9s6|t1_c02s9rv|  1425820157|    4|       false|reddit.com|        t5_6|  4|\n",
      "|    true|[deleted]|                  null|             null|Time to hang out ...|               0| 1199145619|         null|    0| false|     0|c02s9s7|t3_647ht|t1_c02s9s7|t1_c02s8c8|  1425820157|    2|       false|reddit.com|        t5_6|  2|\n",
      "+--------+---------+----------------------+-----------------+--------------------+----------------+-----------+-------------+-----+------+------+-------+--------+----------+----------+------------+-----+------------+----------+------------+---+\n",
      "only showing top 2 rows\n",
      "\n"
     ]
    }
   ],
   "source": [
    "comments_df.show(2)"
   ]
  },
  {
   "cell_type": "markdown",
   "metadata": {},
   "source": [
    "Print the schema of your new "
   ]
  },
  {
   "cell_type": "code",
   "execution_count": 27,
   "metadata": {},
   "outputs": [
    {
     "name": "stdout",
     "output_type": "stream",
     "text": [
      "root\n",
      " |-- archived: boolean (nullable = true)\n",
      " |-- author: string (nullable = true)\n",
      " |-- author_flair_css_class: string (nullable = true)\n",
      " |-- author_flair_text: string (nullable = true)\n",
      " |-- body: string (nullable = true)\n",
      " |-- controversiality: long (nullable = true)\n",
      " |-- created_utc: string (nullable = true)\n",
      " |-- distinguished: string (nullable = true)\n",
      " |-- downs: long (nullable = true)\n",
      " |-- edited: string (nullable = true)\n",
      " |-- gilded: long (nullable = true)\n",
      " |-- id: string (nullable = true)\n",
      " |-- link_id: string (nullable = true)\n",
      " |-- name: string (nullable = true)\n",
      " |-- parent_id: string (nullable = true)\n",
      " |-- retrieved_on: long (nullable = true)\n",
      " |-- score: long (nullable = true)\n",
      " |-- score_hidden: boolean (nullable = true)\n",
      " |-- subreddit: string (nullable = true)\n",
      " |-- subreddit_id: string (nullable = true)\n",
      " |-- ups: long (nullable = true)\n",
      "\n"
     ]
    }
   ],
   "source": [
    "comments_df.printSchema()"
   ]
  },
  {
   "cell_type": "markdown",
   "metadata": {},
   "source": [
    "## Select"
   ]
  },
  {
   "cell_type": "markdown",
   "metadata": {},
   "source": [
    "Reduce the fields to something more managable, but stil useful"
   ]
  },
  {
   "cell_type": "code",
   "execution_count": 28,
   "metadata": {},
   "outputs": [],
   "source": [
    "trimmed_comments = comments_df.select('author','body', 'created_utc', 'subreddit', 'subreddit_id', 'parent_id', 'link_id', 'id')"
   ]
  },
  {
   "cell_type": "code",
   "execution_count": 29,
   "metadata": {},
   "outputs": [
    {
     "name": "stdout",
     "output_type": "stream",
     "text": [
      "+-------------------+--------------------+-----------+-----------+------------+----------+--------+-------+\n",
      "|             author|                body|created_utc|  subreddit|subreddit_id| parent_id| link_id|     id|\n",
      "+-------------------+--------------------+-----------+-----------+------------+----------+--------+-------+\n",
      "|              Haven|Wow, you're a buz...| 1199145604| reddit.com|        t5_6|t1_c02s9rv|t3_648oh|c02s9s6|\n",
      "|          [deleted]|Time to hang out ...| 1199145619| reddit.com|        t5_6|t1_c02s8c8|t3_647ht|c02s9s7|\n",
      "|           lilmiss2|You can march for...| 1199145620| reddit.com|        t5_6|t1_c02s9rv|t3_648oh|c02s9s8|\n",
      "|          [deleted]|           [deleted]| 1199145623| reddit.com|        t5_6|  t3_648oo|t3_648oo|c02s9s9|\n",
      "|          [deleted]|           [deleted]| 1199145632| reddit.com|        t5_6|  t3_648et|t3_648et|c02s9sa|\n",
      "|          [deleted]|           [deleted]| 1199145643|   politics|    t5_2cneq|  t3_648iy|t3_648iy|c02s9sb|\n",
      "|EverybodysAnAsshole|Damn, I'm really ...| 1199145644| reddit.com|        t5_6|t1_c02s976|t3_648et|c02s9sc|\n",
      "|           generalk|Wait, what? \n",
      "\n",
      "You...| 1199145647|programming|     t5_2fwo|t1_c02s8md|t3_647yd|c02s9sd|\n",
      "|          seeker135|And if you sincer...| 1199145650|   politics|    t5_2cneq|  t3_6483n|t3_6483n|c02s9se|\n",
      "|              plehu|Not in University...| 1199145662| reddit.com|        t5_6|t1_c02s94i|t3_648et|c02s9sf|\n",
      "|             mang90|Indeed I did, but...| 1199145676| reddit.com|        t5_6|t1_c02s9mk|t3_648et|c02s9sg|\n",
      "|            bbqribs|That has little t...| 1199145698| reddit.com|        t5_6|t1_c02s8kc|t3_647mf|c02s9sh|\n",
      "|           lilmiss2|Yea, and he proba...| 1199145699| reddit.com|        t5_6|t1_c02s9s6|t3_648oh|c02s9si|\n",
      "|    LiberalDemocrat|I FUCKING HATE DI...| 1199145699| reddit.com|        t5_6|t1_c02s9rm|t3_648ny|c02s9sj|\n",
      "|           generalk|Your ideas intrig...| 1199145708|programming|     t5_2fwo|t1_c02s8zl|t3_647yd|c02s9sk|\n",
      "|          [deleted]|           [deleted]| 1199145709| reddit.com|        t5_6|t1_c02s9qh|t3_648et|c02s9sl|\n",
      "|       RaldisPuppet|I knew you were a...| 1199145726| reddit.com|        t5_6|t1_c02s7vb|t3_647pn|c02s9sm|\n",
      "|    LiberalDemocrat|YEA WHATEVER BRO ...| 1199145727| reddit.com|        t5_6|t1_c02s9si|t3_648oh|c02s9sn|\n",
      "|        elasticsoul|What organization...| 1199145728|   politics|    t5_2cneq|t1_c02s9e2|t3_6483n|c02s9so|\n",
      "|          randomb0y|I have no idea wh...| 1199145733| reddit.com|        t5_6|t1_c02s79k|t3_647j5|c02s9sp|\n",
      "+-------------------+--------------------+-----------+-----------+------------+----------+--------+-------+\n",
      "only showing top 20 rows\n",
      "\n"
     ]
    }
   ],
   "source": [
    "trimmed_comments.show()"
   ]
  },
  {
   "cell_type": "markdown",
   "metadata": {},
   "source": [
    "## Filter and Where"
   ]
  },
  {
   "cell_type": "markdown",
   "metadata": {},
   "source": [
    "Remove the deleted comments"
   ]
  },
  {
   "cell_type": "code",
   "execution_count": 30,
   "metadata": {},
   "outputs": [],
   "source": [
    "valid_comments = trimmed_comments.filter(trimmed_comments['body'] != '[deleted]')"
   ]
  },
  {
   "cell_type": "code",
   "execution_count": 31,
   "metadata": {},
   "outputs": [
    {
     "name": "stdout",
     "output_type": "stream",
     "text": [
      "+-------------------+--------------------+-----------+-----------+------------+----------+--------+-------+\n",
      "|             author|                body|created_utc|  subreddit|subreddit_id| parent_id| link_id|     id|\n",
      "+-------------------+--------------------+-----------+-----------+------------+----------+--------+-------+\n",
      "|              Haven|Wow, you're a buz...| 1199145604| reddit.com|        t5_6|t1_c02s9rv|t3_648oh|c02s9s6|\n",
      "|          [deleted]|Time to hang out ...| 1199145619| reddit.com|        t5_6|t1_c02s8c8|t3_647ht|c02s9s7|\n",
      "|           lilmiss2|You can march for...| 1199145620| reddit.com|        t5_6|t1_c02s9rv|t3_648oh|c02s9s8|\n",
      "|EverybodysAnAsshole|Damn, I'm really ...| 1199145644| reddit.com|        t5_6|t1_c02s976|t3_648et|c02s9sc|\n",
      "|           generalk|Wait, what? \n",
      "\n",
      "You...| 1199145647|programming|     t5_2fwo|t1_c02s8md|t3_647yd|c02s9sd|\n",
      "|          seeker135|And if you sincer...| 1199145650|   politics|    t5_2cneq|  t3_6483n|t3_6483n|c02s9se|\n",
      "|              plehu|Not in University...| 1199145662| reddit.com|        t5_6|t1_c02s94i|t3_648et|c02s9sf|\n",
      "|             mang90|Indeed I did, but...| 1199145676| reddit.com|        t5_6|t1_c02s9mk|t3_648et|c02s9sg|\n",
      "|            bbqribs|That has little t...| 1199145698| reddit.com|        t5_6|t1_c02s8kc|t3_647mf|c02s9sh|\n",
      "|           lilmiss2|Yea, and he proba...| 1199145699| reddit.com|        t5_6|t1_c02s9s6|t3_648oh|c02s9si|\n",
      "|    LiberalDemocrat|I FUCKING HATE DI...| 1199145699| reddit.com|        t5_6|t1_c02s9rm|t3_648ny|c02s9sj|\n",
      "|           generalk|Your ideas intrig...| 1199145708|programming|     t5_2fwo|t1_c02s8zl|t3_647yd|c02s9sk|\n",
      "|       RaldisPuppet|I knew you were a...| 1199145726| reddit.com|        t5_6|t1_c02s7vb|t3_647pn|c02s9sm|\n",
      "|    LiberalDemocrat|YEA WHATEVER BRO ...| 1199145727| reddit.com|        t5_6|t1_c02s9si|t3_648oh|c02s9sn|\n",
      "|        elasticsoul|What organization...| 1199145728|   politics|    t5_2cneq|t1_c02s9e2|t3_6483n|c02s9so|\n",
      "|          randomb0y|I have no idea wh...| 1199145733| reddit.com|        t5_6|t1_c02s79k|t3_647j5|c02s9sp|\n",
      "|           oditogre|Ah, yeah that's p...| 1199145737| reddit.com|        t5_6|t1_c02s6jv|t3_6474d|c02s9sq|\n",
      "|            bbqribs|There's now one i...| 1199145739| reddit.com|        t5_6|t1_c02s7r4|t3_647mf|c02s9sr|\n",
      "|             dlsspy|Absolutely.  I've...| 1199145744|programming|     t5_2fwo|t1_c02s8xn|t3_648fj|c02s9st|\n",
      "|          [deleted]|They wouldn't be ...| 1199145747|    science|     t5_mouw|t1_c02s9ot|t3_6439b|c02s9su|\n",
      "+-------------------+--------------------+-----------+-----------+------------+----------+--------+-------+\n",
      "only showing top 20 rows\n",
      "\n"
     ]
    }
   ],
   "source": [
    "valid_comments.show()"
   ]
  },
  {
   "cell_type": "markdown",
   "metadata": {},
   "source": [
    "## Count"
   ]
  },
  {
   "cell_type": "markdown",
   "metadata": {},
   "source": [
    "Calculate how many comments you now have, and how many you deleted"
   ]
  },
  {
   "cell_type": "code",
   "execution_count": 32,
   "metadata": {},
   "outputs": [
    {
     "data": {
      "text/plain": [
       "390424"
      ]
     },
     "execution_count": 32,
     "metadata": {},
     "output_type": "execute_result"
    }
   ],
   "source": [
    "valid_comments.count()"
   ]
  },
  {
   "cell_type": "code",
   "execution_count": 33,
   "metadata": {},
   "outputs": [
    {
     "data": {
      "text/plain": [
       "452990"
      ]
     },
     "execution_count": 33,
     "metadata": {},
     "output_type": "execute_result"
    }
   ],
   "source": [
    "comments_df.count()"
   ]
  },
  {
   "cell_type": "code",
   "execution_count": 34,
   "metadata": {},
   "outputs": [
    {
     "data": {
      "text/plain": [
       "62566"
      ]
     },
     "execution_count": 34,
     "metadata": {},
     "output_type": "execute_result"
    }
   ],
   "source": [
    "comments_df.count()-valid_comments.count()"
   ]
  },
  {
   "cell_type": "code",
   "execution_count": 35,
   "metadata": {},
   "outputs": [],
   "source": [
    "politics = valid_comments.where(valid_comments['subreddit'] == 'politics')"
   ]
  },
  {
   "cell_type": "code",
   "execution_count": 36,
   "metadata": {},
   "outputs": [
    {
     "name": "stdout",
     "output_type": "stream",
     "text": [
      "+---------------+--------------------+-----------+---------+------------+----------+--------+-------+\n",
      "|         author|                body|created_utc|subreddit|subreddit_id| parent_id| link_id|     id|\n",
      "+---------------+--------------------+-----------+---------+------------+----------+--------+-------+\n",
      "|      seeker135|And if you sincer...| 1199145650| politics|    t5_2cneq|  t3_6483n|t3_6483n|c02s9se|\n",
      "|    elasticsoul|What organization...| 1199145728| politics|    t5_2cneq|t1_c02s9e2|t3_6483n|c02s9so|\n",
      "|LiberalDemocrat|NO HIS PROBLEM IS...| 1199145817| politics|    t5_2cneq|  t3_648os|t3_648os|c02s9t4|\n",
      "|LiberalDemocrat| **HILL BABY IN 08**| 1199145837| politics|    t5_2cneq|  t3_648lz|t3_648lz|c02s9t6|\n",
      "| generic_handle|war. n.\n",
      "\n",
      "     1. ...| 1199145849| politics|    t5_2cneq|t1_c02s9e2|t3_6483n|c02s9t7|\n",
      "|   NoFixedAbode|Frankly the artic...| 1199145889| politics|    t5_2cneq|t1_c02s830|t3_6481i|c02s9te|\n",
      "|      [deleted]|OK I educated mys...| 1199145909| politics|    t5_2cneq|t1_c02s9e4|t3_645rf|c02s9ti|\n",
      "|      seeker135|We ended it in 20...| 1199145990| politics|    t5_2cneq|  t3_647nr|t3_647nr|c02s9tr|\n",
      "|      facewarts|\"What good fortun...| 1199146016| politics|    t5_2cneq|  t3_6483n|t3_6483n|c02s9tu|\n",
      "|      [deleted]|That was back whe...| 1199146027| politics|    t5_2cneq|t1_c02s99e|t3_648kc|c02s9tv|\n",
      "|   tjones_2005a|What took them 8 ...| 1199146040| politics|    t5_2cneq|  t3_648gl|t3_648gl|c02s9ty|\n",
      "|   megablahblah|Ladies, ladies .....| 1199146064| politics|    t5_2cneq|  t3_648lz|t3_648lz|c02s9u1|\n",
      "|     zyzzogeton|So who is respons...| 1199146086| politics|    t5_2cneq|t1_c02s7uf|t3_647tz|c02s9u5|\n",
      "|      DiscoWolf|An anagram for th...| 1199146090| politics|    t5_2cneq|  t3_648os|t3_648os|c02s9u6|\n",
      "|       Kapow751|&gt;Mr. Huckabee ...| 1199146093| politics|    t5_2cneq|  t3_648iy|t3_648iy|c02s9u7|\n",
      "|       Flemlord|Fox News--what a ...| 1199146155| politics|    t5_2cneq|  t3_648p5|t3_648p5|c02s9uh|\n",
      "|      aletoledo|&gt; It's not dic...| 1199146253| politics|    t5_2cneq|t1_c02s9ef|t3_646pj|c02s9up|\n",
      "|LiberalDemocrat|I CONDEM RON PAUL...| 1199146266| politics|    t5_2cneq|  t3_648p5|t3_648p5|c02s9us|\n",
      "|LiberalDemocrat|RON PAUL IS A FAC...| 1199146299| politics|    t5_2cneq|  t3_648p8|t3_648p8|c02s9uu|\n",
      "|     pariahjane|Huckabee seems to...| 1199146362| politics|    t5_2cneq|  t3_648mm|t3_648mm|c02s9uy|\n",
      "+---------------+--------------------+-----------+---------+------------+----------+--------+-------+\n",
      "only showing top 20 rows\n",
      "\n"
     ]
    }
   ],
   "source": [
    "politics.show()"
   ]
  },
  {
   "cell_type": "markdown",
   "metadata": {},
   "source": [
    "## SQL"
   ]
  },
  {
   "cell_type": "markdown",
   "metadata": {},
   "source": [
    "Use SQL to see the comments of one user"
   ]
  },
  {
   "cell_type": "code",
   "execution_count": 37,
   "metadata": {},
   "outputs": [],
   "source": [
    "politics.createOrReplaceTempView(\"politics\")"
   ]
  },
  {
   "cell_type": "code",
   "execution_count": 38,
   "metadata": {},
   "outputs": [],
   "source": [
    "DiscoWolf = spark.sql(\"select * from politics where author like 'DiscoWolf'\")"
   ]
  },
  {
   "cell_type": "code",
   "execution_count": 39,
   "metadata": {},
   "outputs": [
    {
     "name": "stdout",
     "output_type": "stream",
     "text": [
      "+---------+--------------------+-----------+---------+------------+---------+--------+-------+\n",
      "|   author|                body|created_utc|subreddit|subreddit_id|parent_id| link_id|     id|\n",
      "+---------+--------------------+-----------+---------+------------+---------+--------+-------+\n",
      "|DiscoWolf|An anagram for th...| 1199146090| politics|    t5_2cneq| t3_648os|t3_648os|c02s9u6|\n",
      "|DiscoWolf|Adding, \"I never ...| 1199317859| politics|    t5_2cneq| t3_64c5v|t3_64c5v|c02srdg|\n",
      "+---------+--------------------+-----------+---------+------------+---------+--------+-------+\n",
      "\n"
     ]
    }
   ],
   "source": [
    "DiscoWolf.show()"
   ]
  },
  {
   "cell_type": "code",
   "execution_count": 40,
   "metadata": {},
   "outputs": [],
   "source": [
    "zyzzogeton = spark.sql(\"select body from politics where author like 'zyzzogeton'\")"
   ]
  },
  {
   "cell_type": "code",
   "execution_count": 41,
   "metadata": {},
   "outputs": [
    {
     "name": "stdout",
     "output_type": "stream",
     "text": [
      "+--------------------+\n",
      "|                body|\n",
      "+--------------------+\n",
      "|So who is respons...|\n",
      "|1st, 10th, 100th....|\n",
      "|This is a stupid ...|\n",
      "|Well, the Great W...|\n",
      "|The Berlin Wall w...|\n",
      "|I bet Haliburton ...|\n",
      "|He has 80 million...|\n",
      "|That was English....|\n",
      "|More like the evi...|\n",
      "| I wanna be anarchy.|\n",
      "|Back when Bush Sr...|\n",
      "|DEMOCRATS:\n",
      "\n",
      "Obama...|\n",
      "|The exchange rate...|\n",
      "|In more ways than...|\n",
      "|When Kucinich and...|\n",
      "|Those kinds of qu...|\n",
      "|Tax them all and ...|\n",
      "|Excellent use of ...|\n",
      "|It is agreed.  On...|\n",
      "|This was the grea...|\n",
      "+--------------------+\n",
      "only showing top 20 rows\n",
      "\n"
     ]
    }
   ],
   "source": [
    "zyzzogeton.show()"
   ]
  },
  {
   "cell_type": "markdown",
   "metadata": {},
   "source": [
    "# Aggregation"
   ]
  },
  {
   "cell_type": "markdown",
   "metadata": {},
   "source": [
    "## GroupBy"
   ]
  },
  {
   "cell_type": "markdown",
   "metadata": {},
   "source": [
    "Group by Subreddit"
   ]
  },
  {
   "cell_type": "code",
   "execution_count": 42,
   "metadata": {},
   "outputs": [
    {
     "ename": "AttributeError",
     "evalue": "'GroupedData' object has no attribute 'show'",
     "output_type": "error",
     "traceback": [
      "\u001b[0;31m---------------------------------------------------------------------------\u001b[0m",
      "\u001b[0;31mAttributeError\u001b[0m                            Traceback (most recent call last)",
      "\u001b[0;32m<ipython-input-42-abd9d9e651cf>\u001b[0m in \u001b[0;36m<module>\u001b[0;34m\u001b[0m\n\u001b[0;32m----> 1\u001b[0;31m \u001b[0mvalid_comments\u001b[0m\u001b[0;34m.\u001b[0m\u001b[0mgroupBy\u001b[0m\u001b[0;34m(\u001b[0m\u001b[0;34m'subreddit'\u001b[0m\u001b[0;34m)\u001b[0m\u001b[0;34m.\u001b[0m\u001b[0mshow\u001b[0m\u001b[0;34m(\u001b[0m\u001b[0;34m)\u001b[0m\u001b[0;34m\u001b[0m\u001b[0m\n\u001b[0m",
      "\u001b[0;31mAttributeError\u001b[0m: 'GroupedData' object has no attribute 'show'"
     ]
    }
   ],
   "source": [
    "valid_comments.groupBy('subreddit').show()"
   ]
  },
  {
   "cell_type": "code",
   "execution_count": 43,
   "metadata": {},
   "outputs": [
    {
     "data": {
      "text/plain": [
       "<pyspark.sql.group.GroupedData at 0x7f8970eed278>"
      ]
     },
     "execution_count": 43,
     "metadata": {},
     "output_type": "execute_result"
    }
   ],
   "source": [
    "valid_comments.groupBy('subreddit')"
   ]
  },
  {
   "cell_type": "markdown",
   "metadata": {},
   "source": [
    "The groupby by itself does not return a dataframe. Add an aggregation to create a dataframe."
   ]
  },
  {
   "cell_type": "code",
   "execution_count": 44,
   "metadata": {},
   "outputs": [
    {
     "data": {
      "text/plain": [
       "DataFrame[subreddit: string, count: bigint]"
      ]
     },
     "execution_count": 44,
     "metadata": {},
     "output_type": "execute_result"
    }
   ],
   "source": [
    "valid_comments.groupBy('subreddit').count()"
   ]
  },
  {
   "cell_type": "code",
   "execution_count": 24,
   "metadata": {},
   "outputs": [
    {
     "name": "stdout",
     "output_type": "stream",
     "text": [
      "+------------+-----+\n",
      "|   subreddit|count|\n",
      "+------------+-----+\n",
      "|          sl|   23|\n",
      "|          pl|    7|\n",
      "|       arxiv|    4|\n",
      "| programming| 7135|\n",
      "|lipstick.com|   97|\n",
      "|  reddit.com|65652|\n",
      "|          tr|   30|\n",
      "|          de|   24|\n",
      "|          es|    2|\n",
      "|        nsfw|    7|\n",
      "|     request|   34|\n",
      "|     science| 1888|\n",
      "|          it|   11|\n",
      "|          sv|    2|\n",
      "|          nl|    2|\n",
      "| freeculture|   96|\n",
      "|          ru|   15|\n",
      "|    features|  148|\n",
      "|        joel|   53|\n",
      "|          zh|    1|\n",
      "+------------+-----+\n",
      "only showing top 20 rows\n",
      "\n"
     ]
    }
   ],
   "source": [
    "valid_comments.groupBy('subreddit').count().show()"
   ]
  },
  {
   "cell_type": "markdown",
   "metadata": {},
   "source": [
    "## OrderBy & Sort"
   ]
  },
  {
   "cell_type": "markdown",
   "metadata": {},
   "source": [
    "Find the # of comments by subreddit "
   ]
  },
  {
   "cell_type": "code",
   "execution_count": 45,
   "metadata": {},
   "outputs": [
    {
     "name": "stdout",
     "output_type": "stream",
     "text": [
      "+------------+-----+\n",
      "|   subreddit|count|\n",
      "+------------+-----+\n",
      "|       anime|    7|\n",
      "|      iphone|    1|\n",
      "|          vi|    9|\n",
      "|productivity|    1|\n",
      "|   AskReddit|  130|\n",
      "|      videos|    4|\n",
      "|        digg|    4|\n",
      "|       4chan|    3|\n",
      "|    browsers|    1|\n",
      "|          sl|    1|\n",
      "|     lolcats|   12|\n",
      "|  web_design|    1|\n",
      "|     haskell|    2|\n",
      "|  philosophy|   24|\n",
      "|     offbeat|   23|\n",
      "|    torrents|   28|\n",
      "|        l33t|   13|\n",
      "|       apple|    4|\n",
      "|        auto|    2|\n",
      "|  technology|    9|\n",
      "+------------+-----+\n",
      "only showing top 20 rows\n",
      "\n"
     ]
    }
   ],
   "source": [
    "valid_comments.groupBy('subreddit').count().show()"
   ]
  },
  {
   "cell_type": "markdown",
   "metadata": {},
   "source": [
    "Find the most popular subreddits"
   ]
  },
  {
   "cell_type": "code",
   "execution_count": 46,
   "metadata": {},
   "outputs": [],
   "source": [
    "from pyspark.sql.functions import desc"
   ]
  },
  {
   "cell_type": "code",
   "execution_count": 47,
   "metadata": {},
   "outputs": [
    {
     "name": "stdout",
     "output_type": "stream",
     "text": [
      "+-------------+------+\n",
      "|    subreddit| count|\n",
      "+-------------+------+\n",
      "|   reddit.com|195845|\n",
      "|     politics|131367|\n",
      "|  programming| 35834|\n",
      "|      science| 16304|\n",
      "|entertainment|  3279|\n",
      "|     business|  2262|\n",
      "|       gaming|  1941|\n",
      "|      gadgets|  1194|\n",
      "|       sports|   535|\n",
      "|       netsec|   244|\n",
      "|         pics|   224|\n",
      "|         nsfw|   209|\n",
      "|         joel|   155|\n",
      "|    AskReddit|   130|\n",
      "|       cogsci|    71|\n",
      "|         ruby|    65|\n",
      "|           ja|    58|\n",
      "|         math|    50|\n",
      "|       comics|    41|\n",
      "|      ronpaul|    38|\n",
      "+-------------+------+\n",
      "only showing top 20 rows\n",
      "\n"
     ]
    }
   ],
   "source": [
    "valid_comments.groupBy('subreddit').count().sort(desc(\"count\")).show()"
   ]
  },
  {
   "cell_type": "markdown",
   "metadata": {},
   "source": [
    "Find the most popular threads and their subreddits"
   ]
  },
  {
   "cell_type": "code",
   "execution_count": 48,
   "metadata": {},
   "outputs": [
    {
     "name": "stdout",
     "output_type": "stream",
     "text": [
      "+-----------+---------+-----+\n",
      "|  subreddit|parent_id|count|\n",
      "+-----------+---------+-----+\n",
      "| reddit.com| t3_675oj|  561|\n",
      "| reddit.com| t3_66hta|  236|\n",
      "| reddit.com| t3_64xuh|  177|\n",
      "| reddit.com| t3_667q4|  166|\n",
      "|   politics| t3_65s21|  153|\n",
      "|   politics| t3_64ht4|  147|\n",
      "| reddit.com| t3_649s2|  147|\n",
      "|   politics| t3_674tn|  136|\n",
      "| reddit.com| t3_66aa9|  135|\n",
      "|   politics| t3_65t90|  133|\n",
      "| reddit.com| t3_669yz|  132|\n",
      "| reddit.com| t3_65o58|  127|\n",
      "| reddit.com| t3_66xys|  124|\n",
      "|   politics| t3_66mmu|  123|\n",
      "| reddit.com| t3_648et|  119|\n",
      "|   politics| t3_65ecx|  118|\n",
      "| reddit.com| t3_66idx|  116|\n",
      "| reddit.com| t3_66uxr|  115|\n",
      "|programming| t3_666gt|  113|\n",
      "| reddit.com| t3_65zjo|  112|\n",
      "+-----------+---------+-----+\n",
      "only showing top 20 rows\n",
      "\n"
     ]
    }
   ],
   "source": [
    "valid_comments.groupBy('subreddit', 'parent_id').count().sort(desc(\"count\")).show()"
   ]
  },
  {
   "cell_type": "markdown",
   "metadata": {},
   "source": [
    "# Data Calculations"
   ]
  },
  {
   "cell_type": "markdown",
   "metadata": {},
   "source": [
    "## User Defined Functions"
   ]
  },
  {
   "cell_type": "code",
   "execution_count": 63,
   "metadata": {},
   "outputs": [],
   "source": [
    "import nltk\n",
    "from textblob import TextBlob, Word\n",
    "from pyspark.sql.functions import explode, split, lit, col, countDistinct\n",
    "\n",
    "from nltk.corpus import stopwords\n",
    "\n",
    "STOPWORDS = stopwords.words('english')\n",
    "\n",
    "for w in ['http',\"\\'s\",\"n\\'t\",\"\\'re\",\"\\'m\"]:\n",
    "    STOPWORDS.append(w)\n",
    "\n",
    "def tokenize(text):\n",
    "    tokens = []\n",
    "    blob = TextBlob(text.strip().lower())\n",
    "    for word in blob.words:\n",
    "        if word not in STOPWORDS:\n",
    "            tokens.append(str(word))\n",
    "    return tokens"
   ]
  },
  {
   "cell_type": "code",
   "execution_count": 64,
   "metadata": {},
   "outputs": [],
   "source": [
    "from pyspark.sql.functions import udf\n",
    "from pyspark.sql.types import ArrayType, StringType, IntegerType\n",
    "tokenize_udf = udf(tokenize, ArrayType(StringType()))"
   ]
  },
  {
   "cell_type": "code",
   "execution_count": 65,
   "metadata": {},
   "outputs": [],
   "source": [
    "tokenized = politics.select('body', tokenize_udf('body'))"
   ]
  },
  {
   "cell_type": "code",
   "execution_count": 66,
   "metadata": {},
   "outputs": [],
   "source": [
    "words = tokenized.select(explode(tokenized[1]).alias('words'))"
   ]
  },
  {
   "cell_type": "code",
   "execution_count": 67,
   "metadata": {},
   "outputs": [],
   "source": [
    "words_by_count =words.groupBy('words').count().orderBy(desc(\"count\"))"
   ]
  },
  {
   "cell_type": "code",
   "execution_count": 68,
   "metadata": {},
   "outputs": [
    {
     "name": "stdout",
     "output_type": "stream",
     "text": [
      "+----------+-----+\n",
      "|     words|count|\n",
      "+----------+-----+\n",
      "|    people|24459|\n",
      "|     would|23418|\n",
      "|      like|18268|\n",
      "|        gt|18078|\n",
      "|      paul|17184|\n",
      "|     think|15494|\n",
      "|       one|14972|\n",
      "|       get|12675|\n",
      "|        us|10844|\n",
      "|       ron|10744|\n",
      "|      know| 9930|\n",
      "|      even| 9620|\n",
      "|government| 8944|\n",
      "|     right| 8676|\n",
      "|       see| 8326|\n",
      "|      good| 8122|\n",
      "|      time| 8096|\n",
      "|      make| 8076|\n",
      "|      much| 8035|\n",
      "|    really| 8028|\n",
      "+----------+-----+\n",
      "only showing top 20 rows\n",
      "\n"
     ]
    }
   ],
   "source": [
    "words_by_count.show()"
   ]
  },
  {
   "cell_type": "markdown",
   "metadata": {},
   "source": [
    "## WithColumn"
   ]
  },
  {
   "cell_type": "markdown",
   "metadata": {},
   "source": [
    "Add column for the polarity of a comment"
   ]
  },
  {
   "cell_type": "code",
   "execution_count": 72,
   "metadata": {},
   "outputs": [],
   "source": [
    "def get_polarity(text):\n",
    "    blob = TextBlob(text)\n",
    "    return blob.sentiment.polarity"
   ]
  },
  {
   "cell_type": "code",
   "execution_count": 73,
   "metadata": {},
   "outputs": [
    {
     "ename": "NameError",
     "evalue": "name 'FloatType' is not defined",
     "output_type": "error",
     "traceback": [
      "\u001b[0;31m---------------------------------------------------------------------------\u001b[0m",
      "\u001b[0;31mNameError\u001b[0m                                 Traceback (most recent call last)",
      "\u001b[0;32m<ipython-input-73-40ee0f248f75>\u001b[0m in \u001b[0;36m<module>\u001b[0;34m()\u001b[0m\n\u001b[0;32m----> 1\u001b[0;31m \u001b[0mget_polarity_udf\u001b[0m \u001b[0;34m=\u001b[0m \u001b[0mudf\u001b[0m\u001b[0;34m(\u001b[0m\u001b[0mget_polarity\u001b[0m\u001b[0;34m,\u001b[0m \u001b[0mFloatType\u001b[0m\u001b[0;34m(\u001b[0m\u001b[0;34m)\u001b[0m\u001b[0;34m)\u001b[0m\u001b[0;34m\u001b[0m\u001b[0m\n\u001b[0m",
      "\u001b[0;31mNameError\u001b[0m: name 'FloatType' is not defined"
     ]
    }
   ],
   "source": [
    "get_polarity_udf = udf(get_polarity, FloatType())"
   ]
  },
  {
   "cell_type": "markdown",
   "metadata": {},
   "source": [
    "Remember to import types"
   ]
  },
  {
   "cell_type": "code",
   "execution_count": 76,
   "metadata": {},
   "outputs": [],
   "source": [
    "from pyspark.sql.types import FloatType"
   ]
  },
  {
   "cell_type": "code",
   "execution_count": 77,
   "metadata": {},
   "outputs": [],
   "source": [
    "get_polarity_udf = udf(get_polarity, FloatType())"
   ]
  },
  {
   "cell_type": "code",
   "execution_count": 78,
   "metadata": {},
   "outputs": [],
   "source": [
    "valid_comments_with_polarity = valid_comments.withColumn(\"polarity\",get_polarity_udf('body'))"
   ]
  },
  {
   "cell_type": "code",
   "execution_count": 79,
   "metadata": {
    "scrolled": true
   },
   "outputs": [
    {
     "name": "stdout",
     "output_type": "stream",
     "text": [
      "+-------------------+--------------------+-----------+-----------+------------+----------+--------+-------+------------+\n",
      "|             author|                body|created_utc|  subreddit|subreddit_id| parent_id| link_id|     id|    polarity|\n",
      "+-------------------+--------------------+-----------+-----------+------------+----------+--------+-------+------------+\n",
      "|              Haven|Wow, you're a buz...| 1199145604| reddit.com|        t5_6|t1_c02s9rv|t3_648oh|c02s9s6|         0.1|\n",
      "|          [deleted]|Time to hang out ...| 1199145619| reddit.com|        t5_6|t1_c02s8c8|t3_647ht|c02s9s7|         0.0|\n",
      "|           lilmiss2|You can march for...| 1199145620| reddit.com|        t5_6|t1_c02s9rv|t3_648oh|c02s9s8|         0.3|\n",
      "|EverybodysAnAsshole|Damn, I'm really ...| 1199145644| reddit.com|        t5_6|t1_c02s976|t3_648et|c02s9sc|  0.06666667|\n",
      "|           generalk|Wait, what? \n",
      "\n",
      "You...| 1199145647|programming|     t5_2fwo|t1_c02s8md|t3_647yd|c02s9sd| 0.102678575|\n",
      "|          seeker135|And if you sincer...| 1199145650|   politics|    t5_2cneq|  t3_6483n|t3_6483n|c02s9se|      0.4625|\n",
      "|              plehu|Not in University...| 1199145662| reddit.com|        t5_6|t1_c02s94i|t3_648et|c02s9sf|         0.0|\n",
      "|             mang90|Indeed I did, but...| 1199145676| reddit.com|        t5_6|t1_c02s9mk|t3_648et|c02s9sg|        0.35|\n",
      "|            bbqribs|That has little t...| 1199145698| reddit.com|        t5_6|t1_c02s8kc|t3_647mf|c02s9sh|0.0020833334|\n",
      "|           lilmiss2|Yea, and he proba...| 1199145699| reddit.com|        t5_6|t1_c02s9s6|t3_648oh|c02s9si|     -0.0625|\n",
      "|    LiberalDemocrat|I FUCKING HATE DI...| 1199145699| reddit.com|        t5_6|t1_c02s9rm|t3_648ny|c02s9sj|      -0.475|\n",
      "|           generalk|Your ideas intrig...| 1199145708|programming|     t5_2fwo|t1_c02s8zl|t3_647yd|c02s9sk|         0.0|\n",
      "|       RaldisPuppet|I knew you were a...| 1199145726| reddit.com|        t5_6|t1_c02s7vb|t3_647pn|c02s9sm|        -0.6|\n",
      "|    LiberalDemocrat|YEA WHATEVER BRO ...| 1199145727| reddit.com|        t5_6|t1_c02s9si|t3_648oh|c02s9sn|        -0.8|\n",
      "|        elasticsoul|What organization...| 1199145728|   politics|    t5_2cneq|t1_c02s9e2|t3_6483n|c02s9so|      0.0825|\n",
      "|          randomb0y|I have no idea wh...| 1199145733| reddit.com|        t5_6|t1_c02s79k|t3_647j5|c02s9sp| 0.028609626|\n",
      "|           oditogre|Ah, yeah that's p...| 1199145737| reddit.com|        t5_6|t1_c02s6jv|t3_6474d|c02s9sq|         0.0|\n",
      "|            bbqribs|There's now one i...| 1199145739| reddit.com|        t5_6|t1_c02s7r4|t3_647mf|c02s9sr|       0.625|\n",
      "|             dlsspy|Absolutely.  I've...| 1199145744|programming|     t5_2fwo|t1_c02s8xn|t3_648fj|c02s9st|         0.1|\n",
      "|          [deleted]|They wouldn't be ...| 1199145747|    science|     t5_mouw|t1_c02s9ot|t3_6439b|c02s9su|        0.25|\n",
      "+-------------------+--------------------+-----------+-----------+------------+----------+--------+-------+------------+\n",
      "only showing top 20 rows\n",
      "\n"
     ]
    }
   ],
   "source": [
    "valid_comments_with_polarity.show()"
   ]
  },
  {
   "cell_type": "markdown",
   "metadata": {},
   "source": [
    "## Pivot"
   ]
  },
  {
   "cell_type": "markdown",
   "metadata": {},
   "source": [
    "Show # average polarity by subreddit"
   ]
  },
  {
   "cell_type": "code",
   "execution_count": null,
   "metadata": {},
   "outputs": [],
   "source": []
  },
  {
   "cell_type": "markdown",
   "metadata": {},
   "source": [
    "## Map"
   ]
  },
  {
   "cell_type": "markdown",
   "metadata": {},
   "source": [
    "## FlatMap"
   ]
  }
 ],
 "metadata": {
  "kernelspec": {
   "display_name": "Python 3",
   "language": "python",
   "name": "python3"
  },
  "language_info": {
   "codemirror_mode": {
    "name": "ipython",
    "version": 3
   },
   "file_extension": ".py",
   "mimetype": "text/x-python",
   "name": "python",
   "nbconvert_exporter": "python",
   "pygments_lexer": "ipython3",
   "version": "3.5.5"
  }
 },
 "nbformat": 4,
 "nbformat_minor": 2
}
